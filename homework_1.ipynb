{
  "nbformat": 4,
  "nbformat_minor": 0,
  "metadata": {
    "colab": {
      "provenance": []
    },
    "kernelspec": {
      "name": "python3",
      "display_name": "Python 3"
    }
  },
  "cells": [
    {
      "cell_type": "markdown",
      "metadata": {
        "id": "UPNGQgO6aXtZ"
      },
      "source": [
        "# 1. házi feladat\n",
        "\n",
        "Az első házi feladat során egy egyszerű Multi-layer Perceptron (MLP) típusú neuronhálót kell betanítani és kiértékelni egy regressziós és egy klasszifikációs feladaton a PyTorch könyvtár segítségével.\n",
        "\n",
        "A házi feladat több részfeladatból áll (A - I), melyek egymásra épülnek. A feladat automatikus tesztelőszkripttel rendelkezik és vizsgálja az egyes részfeladatokra adott megoldások helyességét. Éppen ezért, **ne változtasd meg a notebook struktúráját**, ne szedd több részre, illetve ne módosítsd a megírt részeket, csak a megoldásaidat írd be a megfelelő helyre, különben nem fogjuk tudni értékelni! A megoldások az `# Implement your solution BELOW` és `# Implement your solution ABOVE` sorok közé írandók. Ha a megoldott részfeladatok futtatásakor a \"Tester: .... OK\" felirat megjelenik, _vélhetően_ jó a megoldás. Azonban, a tesztelőszkript nem képes a megoldás helyességét minden aspektus szerint ellenőrizni. Így elképzelhető, hogy beadás után további javításokat kérünk a megoldásban. A beadott házi feladatok gépi tanulás alapú plágiumellenőrzésen esnek át. Másolás gyanújának felmerülése esetén mind a másolat(ok), mind az azt/azokat ihlető eredeti megoldások visszautasíthatók.\n",
        "\n",
        "**!!! A feladatok megoldását, vagy az arra mutató linkeket bárhol közzétenni tilos !!!**\n",
        "\n",
        "Elakadás esetén javasolt átnézni a Canvason megosztott segédanyag notebookokat és az előadások anyagát. A Canvas fórumon \"HF1 GYIK\" névvel, a gyakori kérdéseket és válaszokat gyűjtjük össze. Továbbá, kérhető segítség az oktatóktól is, például a Teams rendszeren keresztül. Ehhez, kérjük a kurzus Canvas oldalán a legfelső modulban található _\"\n",
        "Teams beszélgetés indítása az oktatókkal\"_ linket használni: ez egy Teams beszélgetést kezdeményez az összes oktatóval egyidejűleg.\n",
        "\n",
        "**Megoldás és beküldés menete:**\n",
        "\n",
        "A közzétett, feladatokat tartalmazó Jupyter notebook a Google Drive-on keresztül lett megosztva, így a Google saját Jupyter notebook szerkesztője és futtatókörnyezete nyílik meg a linkre kattintáskor, a Google Colab. Ennek segítségével online szerkeszthető és futtatható a megosztott notebook. Mivel a notebook csak \"view\" jogosultságokkal van megosztva, a Google Colab az úgynevezett \"Playground\" módban nyitja azt meg, ahol bár szerkeszthető és futtatható a notebook, de a változtatások nem lesznek automatikusan mentve. A notebook maradandó hatásokkal járó szerkesztése az alábbi módokon lehetséges:\n",
        "- Ha online szeretnénk a notebookot szerkeszteni és futtatni a Google Colab segítségével, akkor le kell másolni azt a saját Drive tárhelyre (Google Colab file menü -> Save a copy to Drive), majd a másolatot kell megnyitni szerkesztésre.\n",
        "- A notebook le is tölthető és saját számítógépen is szerkeszthető / futtatható. Ehhez Python környezet megléte szükséges, valamint a notebookban importált Python csomagok és a `jupyterlab`, vagy `notebook` (https://jupyter.org/install) csomag telepítése szükséges a Python disztribúciónk csomagkezelőjével (`pip`, `conda`, stb.).\n",
        "\n",
        "A kész megoldást tartalmazó notebookot (.ipynb) fájlként kell feltölteni a Canvas-ban, a házi feladat beadási felületén.\n",
        "**Kérjük a notebook szerkezetét nem módosítani és nem szétszedni külön feladatok szerint!**\n",
        "\n",
        "**Határidő:** 2023. március 30., szombat, 23:59.\n",
        "\n",
        "**Késve legkésőbb leadható:** 2023. április 5., péntek, 23:59. - **Ezt követően pótlásra és/vagy javításra nincs lehetőség, ezáltal jegyszerzésre sem. !!!**\n",
        "\n",
        "**Értékelés:** A házi feladat helyes megoldása és oktatók által történő elfogadása feltétele a jegyszerzésnek. A házi feladat minősége részletesen pontozásra nem kerül, az értékelése kétfokozatú: megfelelt / nem felelt meg. Az első határidőig leadott nagyrészt helyes és nagyrészt teljes (\"megfelelt\") megoldásért 10 pont jár. Késés esetén ez elveszik.\n",
        "\n",
        "**Kikötés:** Ahol csak lehet, hatékony, vektorizált megoldásokat várunk. További részletekért lásd: Canvas, HF1 GYIK fórum, \"Használhatók-e Python ciklusok?\" bejegyzés."
      ]
    },
    {
      "cell_type": "markdown",
      "metadata": {
        "id": "dEKuTE7hGsZr"
      },
      "source": [
        "Tesztelő szkript letöltése, importok."
      ]
    },
    {
      "cell_type": "code",
      "metadata": {
        "id": "dc9fa3F-T0u5",
        "colab": {
          "base_uri": "https://localhost:8080/"
        },
        "outputId": "c71af55d-bb11-468c-f565-c65253efa150"
      },
      "source": [
        "# Download tester\n",
        "!rm annbsc24_p1_hw1_tester.py\n",
        "!wget https://nipg12.inf.elte.hu/~vavsaai@nipg.lab/annbsc24_p1/files/annbsc24_p1_hw1_tester.py\n",
        "\n",
        "import copy\n",
        "import numpy as np\n",
        "import torch\n",
        "import torch.nn as nn\n",
        "from torch.utils.data import Dataset, DataLoader\n",
        "\n",
        "import matplotlib.pyplot as plt\n",
        "\n",
        "from annbsc24_p1_hw1_tester import Tester"
      ],
      "execution_count": 1,
      "outputs": [
        {
          "output_type": "stream",
          "name": "stdout",
          "text": [
            "rm: cannot remove 'annbsc24_p1_hw1_tester.py': No such file or directory\n",
            "--2024-03-21 19:00:33--  https://nipg12.inf.elte.hu/~vavsaai@nipg.lab/annbsc24_p1/files/annbsc24_p1_hw1_tester.py\n",
            "Resolving nipg12.inf.elte.hu (nipg12.inf.elte.hu)... 157.181.160.172\n",
            "Connecting to nipg12.inf.elte.hu (nipg12.inf.elte.hu)|157.181.160.172|:443... connected.\n",
            "HTTP request sent, awaiting response... 200 OK\n",
            "Length: 14778 (14K)\n",
            "Saving to: ‘annbsc24_p1_hw1_tester.py’\n",
            "\n",
            "annbsc24_p1_hw1_tes 100%[===================>]  14.43K  --.-KB/s    in 0.1s    \n",
            "\n",
            "2024-03-21 19:00:34 (114 KB/s) - ‘annbsc24_p1_hw1_tester.py’ saved [14778/14778]\n",
            "\n"
          ]
        }
      ]
    },
    {
      "cell_type": "markdown",
      "metadata": {
        "id": "BJ7TTytUaUwW"
      },
      "source": [
        "###**A**: Az adatbázis betöltése\n",
        "\n",
        "**Információ az adatbázisról**:\n",
        "Az adatbázis az UCI Machine Learning Repository-ról származik (http://archive.ics.uci.edu/ml/datasets/Student+Performance). Két portugál középiskolában tanuló diákok néhány adatát és a harmadév végi, év végi jegyeiket (0-20) tartalmazza. A házi feladat keretében, **neuronhálókkal próbálunk a diákok szociális és pénzügyi háttere alapján becsléseket adni az iskolai teljesítményükre.**\n",
        "\n",
        "A tesztelőszkript letölti a szöveges formában tárolt adatbázist és elhelyezi a `content` sztringben. Alább, kiírjuk a hosszát és az első 500 karaktert is a sztringből. Az adatbázis fájlok egy-egy sora adja meg az egy-egy mintaelemhez tartozó változók értékeit. A sorokban az egyes változókhoz tartozó értékek pontosvesszővel vannak elválasztva. Az adatbázis első sora a változók neveit tartalmazza.\n",
        "\n",
        "A feladatod, hogy **alakítsd át a `content` sztringet az adatbázis változóinak értékeit tartalmazó NumPy tömbbé.** A tömbök adattípusa np.float32 (lebegőpontos) legyen! A változók értékeit helyezd el a `dataset_noisy` (n_mintaelem, n_változó) alakú tömbben!  Az input változókat és címkéket később választjuk majd szét.\n",
        "\n",
        "Az adatbázis helyenként hiányzó értékeket tartalmaz: az adatok egy része nem volt elérhető az adatbázis rögzítésekor. Konkrétabban, a család méretét, a szülők együttélését és munkáját leíró oszlopokban találhatók hiányzó értékek. Ezek az ötödik (famsize), hatodik (Pstatus), kilencedik (Mjob) és tizedik (Fjob) oszlopokban találhatók. Hiányzó értékek esetén a `content` sztringben ténylegesen is hiányoznak a megfelelő pontosvesszők közt elhelyezkedő értékek, tehát ilyenkor két (vagy több) pontosvessző következik egymás után.\n",
        "\n",
        "A hiányzó értékeket kezelned kell és fel kell ismerned beolvasás közben: a hiányzó értékek helyére a `dataset_noisy` tömbben `np.nan` (Not-a-Number) értékek kell, hogy kerüljenek. A NaN értékek kezeléséről rövid útmutató található a Canvas-on, a HF1 GYIK fórum válaszai közt."
      ]
    },
    {
      "cell_type": "code",
      "metadata": {
        "id": "OdKqP5OvXJpX",
        "colab": {
          "base_uri": "https://localhost:8080/"
        },
        "outputId": "f1870234-5a18-4baa-8ccb-1bcd8f317f34"
      },
      "source": [
        "tester = Tester()\n",
        "content = tester.get_dataset_content()\n",
        "\n",
        "print(\"Number of characters in dataset:\", len(content))\n",
        "print(content[:500])\n"
      ],
      "execution_count": 2,
      "outputs": [
        {
          "output_type": "stream",
          "name": "stdout",
          "text": [
            "Number of characters in dataset: 27388\n",
            "school;sex;age;address;famsize;Pstatus;Medu;Fedu;Mjob;Fjob;reason;guardian;traveltime;studytime;failures;schoolsup;famsup;paid;activities;nursery;higher;internet;romantic;famrel;freetime;goout;Dalc;Walc;health;absences;G1;G2;G3\n",
            "0;0;18;0;1;1;4;4;5;0;4;0;2;2;0;0;1;1;1;0;0;1;1;4;3;4;1;1;3;6;5;6;6\n",
            "0;0;17;0;1;0;1;1;5;3;4;1;1;2;0;1;0;1;1;1;0;0;1;5;3;3;1;1;3;4;5;5;6\n",
            "0;0;15;0;0;0;1;1;5;3;3;0;1;2;3;0;1;0;1;0;0;0;1;4;3;2;2;3;3;10;7;8;10\n",
            "0;0;15;0;1;0;4;2;;4;0;0;1;3;0;1;0;0;0;0;0;0;0;3;2;2;1;1;5;2;15;14;15\n",
            "\n"
          ]
        }
      ]
    },
    {
      "cell_type": "code",
      "metadata": {
        "id": "q_kfEC4sEMtw",
        "colab": {
          "base_uri": "https://localhost:8080/"
        },
        "outputId": "f7fd2b2d-fc9d-44ed-fc0d-44fa8f55b23c"
      },
      "source": [
        "# implement your solution BELOW\n",
        "\n",
        "rows = content.split('\\n')[1:]\n",
        "dataset_noisy = np.genfromtxt(rows, dtype=np.float32, delimiter=';', missing_values='', filling_values=np.nan)\n",
        "\n",
        "# implement your solution ABOVE\n",
        "\n",
        "tester.test('dataset_load', dataset_noisy)"
      ],
      "execution_count": 3,
      "outputs": [
        {
          "output_type": "stream",
          "name": "stdout",
          "text": [
            "Tester: Dataset loading OK\n"
          ]
        }
      ]
    },
    {
      "cell_type": "markdown",
      "source": [
        "## **B**: A hiányzó adat kezelése\n",
        "\n",
        "NaN értékekkel nem fogunk tudni tovább dolgozni, hiszen a legtöbb NumPy/PyTorch művelet nem támogatja őket és bármilyen tömbre, melyben legalább egy NaN érték található, ezen műveletek kimenete is NaN lesz, így például a neuronhálónk becslése és költsége is. Utóbbi megakadályozza, hogy a hálót gradiens módszerrel optimalizáljuk. Éppen ezért, a hiányzó adatokat reprezentáló NaN értékeket az alábbi módon fogjuk eltüntetni:\n",
        "\n",
        "**Hozz létre minden NaN értéket tartalmazó változóhoz egy-egy újabb változót, melyek azt jelzik, hogy valódi érték található-e az adott változóban az adott mintaelemnél, vagy nem!** Valódi érték esetén az új változó kapjon 1 értéket, NaN esetén pedig 0 értéket! Helyezd el az eredeti adatot és az új változókat a `dataset` tömbben: az új változók oszlopai kerüljenek megfelelő sorrendben az összes eredeti változót tartalmazó oszlop **után**! Az előző feladat leírásában említésre került, hogy melyik oszlopok tartalmazhatnak NaN értékeket.</br>\n",
        "Mivel a 33 változós adatbázisunk #4, #5, #8 és #9 indexű oszlopai (változói) tartalmazhatnak NaN értékeket, akkor az új `dataset` tömbünk 37 változós lesz és a négy új változó az utolsó négy oszlopba kerül. Például tehát, a #33 indexű oszlopban egy adott sorba nullás érték kerül, ha a #4-es oszlopban annál a sornál NaN található, egyébként pedig 1-es érték kerül oda. Hasonlóan készítjük el a #34, #35, #36 indexű oszlopokat az #5, #8 és #9 indexű oszlopok alapján.\n",
        "\n",
        "Végül, **helyettesítsd** az így elkészült **tömb összes NaN értékét nullával!**\n"
      ],
      "metadata": {
        "id": "h742EV1H38vK"
      }
    },
    {
      "cell_type": "code",
      "source": [
        "# implement your solution BELOW\n",
        "\n",
        "dataset = np.copy(dataset_noisy)\n",
        "\n",
        "nan4 = np.ones(dataset_noisy.shape[0], dtype=np.float32)\n",
        "nan4_i = np.where(np.isnan(dataset_noisy[:, 4]))\n",
        "nan4[nan4_i] = 0\n",
        "dataset[nan4_i, 4] = 0\n",
        "nan4 = nan4.reshape(-1, 1)\n",
        "\n",
        "nan5 = np.ones(dataset_noisy.shape[0], dtype=np.float32)\n",
        "nan5_i = np.where(np.isnan(dataset_noisy[:, 5]))\n",
        "nan5[nan5_i] = 0\n",
        "dataset[nan5_i, 5] = 0\n",
        "nan5 = nan5.reshape(-1, 1)\n",
        "\n",
        "nan8 = np.ones(dataset_noisy.shape[0], dtype=np.float32)\n",
        "nan8_i = np.where(np.isnan(dataset_noisy[:, 8]))\n",
        "nan8[nan8_i] = 0\n",
        "dataset[nan8_i, 8] = 0\n",
        "nan8 = nan8.reshape(-1, 1)\n",
        "\n",
        "nan9 = np.ones(dataset_noisy.shape[0], dtype=np.float32)\n",
        "nan9_i = np.where(np.isnan(dataset_noisy[:, 9]))\n",
        "nan9[nan9_i] = 0\n",
        "dataset[nan9_i, 9] = 0\n",
        "nan9 = nan9.reshape(-1, 1)\n",
        "\n",
        "dataset = np.concatenate((dataset, nan4), axis=1)\n",
        "dataset = np.concatenate((dataset, nan5), axis=1)\n",
        "dataset = np.concatenate((dataset, nan8), axis=1)\n",
        "dataset = np.concatenate((dataset, nan9), axis=1)\n",
        "\n",
        "# implement your solution ABOVE\n",
        "\n",
        "tester.test('dataset_fill_missing', dataset)"
      ],
      "metadata": {
        "id": "tqx3YTmF4KGT",
        "colab": {
          "base_uri": "https://localhost:8080/"
        },
        "outputId": "dddbb0c4-1c6c-4b06-a522-e74cad5587f8"
      },
      "execution_count": 4,
      "outputs": [
        {
          "output_type": "stream",
          "name": "stdout",
          "text": [
            "Tester: Dataset loading OK\n"
          ]
        }
      ]
    },
    {
      "cell_type": "markdown",
      "metadata": {
        "id": "KrE7NLJTR7Aq"
      },
      "source": [
        "## **C**: Tanító-, validációs- és teszthalmaz szétválasztása\n",
        "\n",
        "**Keverd meg véletlenszerűen a mintaelemeket** a `dataset` tömbben! Ezt általánosságban azért célszerű megtenni, mert az adatbázisban az elemek valamilyen tulajdonságaik alapján rendezve lehetnek. Megkeverés nélkül, a szétválasztott halmazokban jelentősen különbözne a címkék eloszlása.\n",
        "\n",
        "Ezt követően **válaszd szét a tömböt tanító-, validációs- és teszthalmazra**, 60%, 20%, 20% arányban! A halmazokat tartalmazó három tömböt nevezd el `dataset_split_train`, `dataset_split_val`, `dataset_split_test`-nek, sorrendben!"
      ]
    },
    {
      "cell_type": "code",
      "source": [
        "# implement your solution BELOW\n",
        "\n",
        "np.random.shuffle(dataset)\n",
        "n = len(dataset)\n",
        "\n",
        "train_n = int(0.6 * n)\n",
        "val_n = int(train_n + 0.2 * n)\n",
        "test_n = int(val_n + 0.2 * n)\n",
        "\n",
        "dataset_split_train = dataset[: train_n, :]\n",
        "dataset_split_val = dataset[train_n : val_n, :]\n",
        "dataset_split_test = dataset[val_n : test_n, :]\n",
        "\n",
        "# implement your solution ABOVE\n",
        "\n",
        "tester.test('dataset_split', dataset_split_train, dataset_split_val, dataset_split_test)"
      ],
      "metadata": {
        "id": "VlPL_GE2xcR1",
        "colab": {
          "base_uri": "https://localhost:8080/"
        },
        "outputId": "b4124665-3f90-4965-82a0-b7236c2e27a7"
      },
      "execution_count": 5,
      "outputs": [
        {
          "output_type": "stream",
          "name": "stdout",
          "text": [
            "Tester: Dataset split OK\n"
          ]
        }
      ]
    },
    {
      "cell_type": "markdown",
      "source": [
        "## **D**: Az adat-iterátorok létrehozása a regressziós feladathoz\n",
        "\n",
        "A neuronhálók gradiens módszeres betanítását a legtöbbször iterátorokkal valósítjuk meg, melyek bejárják az adatbázisunkat és előállítják a neuronhálók tanításához szükséges input és címke kötegeket. A regressziós feladat során a becsülendő címkeváltozó a diákok év végi jegye lesz (`G3` nevű oszlop az eredeti adatbázis szövegfájlban - ez a 32-es indexű oszlop), míg az input változókat az összes többi attribútum adja, beleértve az újonnan előállított négy változót is.\n",
        "\n",
        "Ebben a részfeladatban **elő kell állítanod három iterátor objektumot** `dataloader_reg_train`, `dataloader_reg_val`, `dataloader_reg_test` néven, melyek az előző részfeladatban elkészített tanító-, validációs- és teszthalmazokat tartalmazó tömböket járják be. **Az iterátorok minden lépésben két tenzort adnak vissza**, melyek egy-egy kötegnyi input és címke adatot tárolnak el. A visszaadott tenzorok alakja tehát `(batch_size, 36)` és `(batch_size, 1)` lesz. Utóbbi (a címkéket tartalmazó tenzor) a diákok év végi jegyeit fogja tartalmazni, előbbi pedig az adatbázis összes többi változójának értékét a megfelelő mintaelemekre. `batch_size` a mintaelemek számát adja meg, melyeket egyszerre, egy kötegben fog megkapni a neuronhálónk - ennek értéke lehet például 32.\n",
        "\n",
        "Hangsúlyozandó, hogy az iterátorok a fent említett NumPy tömbökből (`np.ndarray`) nyert mintaelem-kötegeket már `torch.tensor` típusú objektumokként adják vissza (pontosabban, kételemű tuple-öket adnak vissza, melyekben `torch.tensor` objektumok lesznek). A PyTorch-al definiált neuronhálók betanításához már mindenképp PyTorch tenzorok szükségesek. A tenzorok **adattípusa** 4 bájtos lebegőpontos típus (`torch.float32`) legyen!\n",
        "\n",
        "A **tanító és validációs halmazt felsoroló iterátorok járják be véletlen sorrendben** a hozzájuk tartozó mintaelemeket! A teszt halmazt felsoroló iterátor ne változtasson a `dataset_split_test` tömb sorrendjén!\n",
        "\n",
        "Az iterátorok implementációja többféleképpen megoldható, de javasolt a `torch.utils.data` modul `Dataset` és `DataLoader` osztályait felhasználni, vagy szükség esetén származtatni őket."
      ],
      "metadata": {
        "id": "jCQKy2XL_yEx"
      }
    },
    {
      "cell_type": "code",
      "metadata": {
        "id": "ls4niplvUgQ6",
        "colab": {
          "base_uri": "https://localhost:8080/"
        },
        "outputId": "c163d1c7-453e-423f-faa6-36868f063b18"
      },
      "source": [
        "# implement your solution BELOW\n",
        "\n",
        "class StudentsRegressionDataset(Dataset):\n",
        "  def __init__(self, data):\n",
        "    target = data[:, 32]\n",
        "    features = np.delete(data, 32, axis=1)\n",
        "    self.features = torch.tensor(features, dtype=torch.float32)\n",
        "    self.target = torch.tensor(target, dtype=torch.float32).unsqueeze(1)\n",
        "\n",
        "  def __len__(self):\n",
        "    return len(self.features)\n",
        "\n",
        "  def __getitem__(self, idx):\n",
        "    return self.features[idx], self.target[idx]\n",
        "\n",
        "dataset_reg_train = StudentsRegressionDataset(dataset_split_train)\n",
        "dataset_reg_val = StudentsRegressionDataset(dataset_split_val)\n",
        "dataset_reg_test = StudentsRegressionDataset(dataset_split_test)\n",
        "\n",
        "dataloader_reg_train = DataLoader(dataset_reg_train, batch_size=32, shuffle=True)\n",
        "dataloader_reg_val = DataLoader(dataset_reg_val, batch_size=32, shuffle=True)\n",
        "dataloader_reg_test = DataLoader(dataset_reg_test, batch_size=32, shuffle=False)\n",
        "\n",
        "# implement your solution ABOVE\n",
        "\n",
        "tester.test('reg_iter', dataloader_reg_train, dataloader_reg_val, dataloader_reg_test)"
      ],
      "execution_count": 24,
      "outputs": [
        {
          "output_type": "stream",
          "name": "stdout",
          "text": [
            "Tester: Dataset iterators for regression task OK\n"
          ]
        }
      ]
    },
    {
      "cell_type": "markdown",
      "metadata": {
        "id": "dohOMs4NlVXG"
      },
      "source": [
        "## **E**: A regressziós neuronháló definiálása\n",
        "\n",
        "**Definiáld a regressziós feladathoz alkalmazandó neuronhálót megvalósító osztályt**, mely az általános `torch.nn.Module` osztály leszármazottja, majd példányosítsd azt és add értékül a `reg_model` nevű változónak a példányt!\n",
        "\n",
        "A regressziós neuronháló **tartalmazzon 3 teljesen összekötött réteget, sorban 30, 20 és 1 neuronnal és alkalmazza a ReLU aktivációs függvényt a rétegek között!**\n",
        "\n",
        "Az új osztálynak mindenképpen meg kell valósítania a `forward(self, x)` tagfüggvényt, mely a neuronhálót (hipotézisfüggvényt) az `x` input tenzorra kiértékeli. A `forward` függvény fogja majd az előbb definiált adat-iterátorból érkező input tenzorokat megkapni és előállítani belőle a címkebecsléseket. Az osztály konstruktorában célszerű a neuronhálónk rétegeit inicializálni."
      ]
    },
    {
      "cell_type": "code",
      "metadata": {
        "id": "rAywpNOml4VL",
        "colab": {
          "base_uri": "https://localhost:8080/"
        },
        "outputId": "47c15c9f-70ae-47a0-f1ec-0b8a7b166a16"
      },
      "source": [
        "# implement your solution BELOW\n",
        "\n",
        "class RegressionModel(nn.Module):\n",
        "  def __init__(self, input_dim):\n",
        "    super().__init__()\n",
        "    self.linear_relu_layers = nn.Sequential(\n",
        "        nn.Linear(input_dim, 30),\n",
        "        nn.ReLU(),\n",
        "        nn.Linear(30, 20),\n",
        "        nn.ReLU(),\n",
        "        nn.Linear(20, 1)\n",
        "    )\n",
        "\n",
        "  def forward(self, x):\n",
        "    return self.linear_relu_layers(x)\n",
        "\n",
        "reg_model = RegressionModel(36)\n",
        "\n",
        "# implement your solution ABOVE\n",
        "\n",
        "tester.test('reg_model_architecture', reg_model)"
      ],
      "execution_count": 79,
      "outputs": [
        {
          "output_type": "stream",
          "name": "stdout",
          "text": [
            "Tester: Regression model architecture OK\n"
          ]
        }
      ]
    },
    {
      "cell_type": "markdown",
      "metadata": {
        "id": "Pz4fFtBUhUXV"
      },
      "source": [
        "## **F**: A háló betanítása regressziós feladatra\n",
        "\n",
        "**Tanítsd be a** `reg_model` **neuronhálót** a tanítóhalmazon a `dataloader_reg_train` iterátor segítségével és alkalmazd a `dataloader_reg_val` iterátort a validációhoz! Az iterátorok egyetlen (akár véletlen sorrendben történő) végighaladása a tanító és validációs adathalmazokon határoz meg egy _epoch_-ot.\n",
        "\n",
        "Alkalmazd a regressziókor szokásosan használt **\"átlagos négyzetes eltérés\" költséget**! **Mérd le minden epoch-ban a tanító- és a validációs halmazon mért költségeket, majd a tanítás végeztével rajzold ki ezeknek az értékeknek a tanítás során való alakulását egy közös grafikonon!** A grafikonok kirajzolásához használhatod például a `matplotlib` könyvtárat. Figyelj rá, hogy a grafikonon jól látszódjanak a görbék közti eltérések a tanítás végén is! Ha szükséges, beállíthatod ehhez kézzel, hogy az y tengely melyik részét mutassa a grafikon. **A grafikonon legyen jelmagyarázat** (legend), mely megmutatja, melyik görbe írja le a tanítási költséget és melyik a validációs költséget!\n",
        "\n",
        "Azt, hogy a tanítás meddig tartson (az epoch-ok számát) megadhatod kézzel is, a validációs költség alakulása alapján: próbáld úgy megadni, hogy a neuronháló lehetőleg jól betanult legyen, de súlyos túltanulás még ne jelenjen meg!\n",
        "\n",
        "A betanításhoz válassz egy gradiens módszer alapú **optimalizációs algoritmust** a `torch.optim` modulból (pl. `SGD`, `Adam`, `RMSprop`, stb.), majd válassz egy megfelelő **tanulási rátát** is!\n",
        "\n",
        "A betanítás végeztével **mérd le az átlagos költséget a teljes teszthalmazon** és add értékül a kapott számot a `test_mse` változónak!\n",
        "\n",
        "Ezt követően, **válassz néhány mintaelemet a teszthalmazból** (például a `dataloader_reg_test` iterátor segítségével) és **adj becslést a címkéjükre** az input változók értékei alapján, majd **írasd ki az egyes mintaelemekre a becsült és az igazi címkéjüket!** Így példákon is láthatjuk, hogy mennyire ad jó becsléseket a neuronhálónk.\n",
        "\n"
      ]
    },
    {
      "cell_type": "code",
      "source": [
        "# implement your solution BELOW\n",
        "\n",
        "# train\n",
        "epochs = 50\n",
        "loss_fn = nn.MSELoss()\n",
        "lr = 0.055\n",
        "optimizer = torch.optim.Adam(reg_model.parameters(), lr=lr)\n",
        "\n",
        "train_losses = []\n",
        "val_losses = []\n",
        "\n",
        "for epoch in range(epochs):\n",
        "  reg_model.train()\n",
        "  train_epoch_losses = []\n",
        "\n",
        "  for x, y in dataloader_reg_train:\n",
        "    optimizer.zero_grad()\n",
        "    y_hat = reg_model(x)\n",
        "    loss = loss_fn(y_hat, y)\n",
        "    train_epoch_losses.append(loss)\n",
        "    loss.backward()\n",
        "    optimizer.step()\n",
        "\n",
        "  train_epoch_losses = torch.tensor(train_epoch_losses)\n",
        "  avg_epoch_loss = train_epoch_losses.mean()\n",
        "  train_losses.append(avg_epoch_loss)\n",
        "\n",
        "  reg_model.eval()\n",
        "  val_epoch_losses = []\n",
        "  for x, y in dataloader_reg_val:\n",
        "    with torch.no_grad():\n",
        "      y_hat = reg_model(x)\n",
        "    loss = loss_fn(y_hat, y)\n",
        "    val_epoch_losses.append(loss)\n",
        "\n",
        "  val_epoch_losses = torch.tensor(val_epoch_losses)\n",
        "  avg_epoch_loss = val_epoch_losses.mean()\n",
        "  val_losses.append(avg_epoch_loss)\n",
        "  print(f'Tranining {epoch+1}/{epochs} done, training loss: {train_losses[-1]}, validation loss: {val_losses[-1]}')\n",
        "\n",
        "# visualize\n",
        "plt.plot(train_losses, label='Training')\n",
        "plt.plot(val_losses, label='Validation')\n",
        "plt.xlabel('Epochs')\n",
        "plt.ylabel('MSE loss')\n",
        "plt.ylim(0, 10)\n",
        "plt.legend()\n",
        "plt.show()\n",
        "\n",
        "# test\n",
        "reg_model.eval()\n",
        "test_losses = []\n",
        "pred_label_pairs = []\n",
        "for x, y in dataloader_reg_test:\n",
        "  with torch.no_grad():\n",
        "    y_hat = reg_model(x)\n",
        "  loss = loss_fn(y_hat, y)\n",
        "  test_losses.append(loss)\n",
        "  pred_label_pairs.append(torch.concat((y_hat, y), dim=-1))\n",
        "\n",
        "test_mse = torch.tensor(test_losses).mean()\n",
        "print('Average loss on test dataset: ', test_mse.item())\n",
        "print(pred_label_pairs[0].numpy()[:5])\n",
        "\n",
        "# implement your solution ABOVE\n",
        "\n",
        "tester.test('reg_model_learning', test_mse)"
      ],
      "metadata": {
        "id": "ReFyxJXAzcx5",
        "colab": {
          "base_uri": "https://localhost:8080/",
          "height": 1000
        },
        "outputId": "df417a16-400d-40e6-e40d-5a20632a01de"
      },
      "execution_count": 80,
      "outputs": [
        {
          "output_type": "stream",
          "name": "stdout",
          "text": [
            "Tranining 1/50 done, training loss: 71.61285400390625, validation loss: 51.77410888671875\n",
            "Tranining 2/50 done, training loss: 29.133628845214844, validation loss: 19.609153747558594\n",
            "Tranining 3/50 done, training loss: 17.05634117126465, validation loss: 22.969802856445312\n",
            "Tranining 4/50 done, training loss: 13.916962623596191, validation loss: 10.128748893737793\n",
            "Tranining 5/50 done, training loss: 8.766273498535156, validation loss: 10.042632102966309\n",
            "Tranining 6/50 done, training loss: 6.85566520690918, validation loss: 5.973245143890381\n",
            "Tranining 7/50 done, training loss: 5.409449577331543, validation loss: 6.035694122314453\n",
            "Tranining 8/50 done, training loss: 5.4876251220703125, validation loss: 5.337573528289795\n",
            "Tranining 9/50 done, training loss: 5.622133731842041, validation loss: 4.298190593719482\n",
            "Tranining 10/50 done, training loss: 5.1486711502075195, validation loss: 4.050809383392334\n",
            "Tranining 11/50 done, training loss: 4.647670269012451, validation loss: 5.970101833343506\n",
            "Tranining 12/50 done, training loss: 4.504101753234863, validation loss: 3.8786823749542236\n",
            "Tranining 13/50 done, training loss: 4.480321407318115, validation loss: 3.41259503364563\n",
            "Tranining 14/50 done, training loss: 4.549161434173584, validation loss: 4.089094161987305\n",
            "Tranining 15/50 done, training loss: 5.137709617614746, validation loss: 5.492899417877197\n",
            "Tranining 16/50 done, training loss: 5.628904342651367, validation loss: 4.683141708374023\n",
            "Tranining 17/50 done, training loss: 4.405539512634277, validation loss: 4.307399272918701\n",
            "Tranining 18/50 done, training loss: 4.338461399078369, validation loss: 3.568937301635742\n",
            "Tranining 19/50 done, training loss: 4.071022987365723, validation loss: 3.423997163772583\n",
            "Tranining 20/50 done, training loss: 4.101266384124756, validation loss: 3.152420997619629\n",
            "Tranining 21/50 done, training loss: 3.737668752670288, validation loss: 2.867730140686035\n",
            "Tranining 22/50 done, training loss: 4.289818286895752, validation loss: 4.9410481452941895\n",
            "Tranining 23/50 done, training loss: 4.495932579040527, validation loss: 5.032705307006836\n",
            "Tranining 24/50 done, training loss: 4.340420722961426, validation loss: 3.7893807888031006\n",
            "Tranining 25/50 done, training loss: 3.897047996520996, validation loss: 3.495532274246216\n",
            "Tranining 26/50 done, training loss: 3.687018871307373, validation loss: 3.969007730484009\n",
            "Tranining 27/50 done, training loss: 4.303287506103516, validation loss: 2.681720018386841\n",
            "Tranining 28/50 done, training loss: 3.983403205871582, validation loss: 3.5327396392822266\n",
            "Tranining 29/50 done, training loss: 4.192574501037598, validation loss: 3.2916386127471924\n",
            "Tranining 30/50 done, training loss: 4.2295355796813965, validation loss: 5.10275411605835\n",
            "Tranining 31/50 done, training loss: 4.047239780426025, validation loss: 4.3394083976745605\n",
            "Tranining 32/50 done, training loss: 3.8576772212982178, validation loss: 2.698570489883423\n",
            "Tranining 33/50 done, training loss: 3.626650333404541, validation loss: 2.939772605895996\n",
            "Tranining 34/50 done, training loss: 3.82620906829834, validation loss: 2.9644577503204346\n",
            "Tranining 35/50 done, training loss: 3.751969814300537, validation loss: 5.890281677246094\n",
            "Tranining 36/50 done, training loss: 4.996824264526367, validation loss: 3.4566872119903564\n",
            "Tranining 37/50 done, training loss: 4.183004856109619, validation loss: 3.51800799369812\n",
            "Tranining 38/50 done, training loss: 3.3831310272216797, validation loss: 3.4653120040893555\n",
            "Tranining 39/50 done, training loss: 3.4438908100128174, validation loss: 2.547865629196167\n",
            "Tranining 40/50 done, training loss: 3.2691922187805176, validation loss: 2.872683525085449\n",
            "Tranining 41/50 done, training loss: 3.738301992416382, validation loss: 2.7780921459198\n",
            "Tranining 42/50 done, training loss: 3.4413390159606934, validation loss: 3.34542179107666\n",
            "Tranining 43/50 done, training loss: 3.405155658721924, validation loss: 3.3151683807373047\n",
            "Tranining 44/50 done, training loss: 3.3169867992401123, validation loss: 3.315288543701172\n",
            "Tranining 45/50 done, training loss: 4.273396015167236, validation loss: 5.000366687774658\n",
            "Tranining 46/50 done, training loss: 3.5726265907287598, validation loss: 2.703021764755249\n",
            "Tranining 47/50 done, training loss: 2.8531911373138428, validation loss: 4.154299259185791\n",
            "Tranining 48/50 done, training loss: 2.474287986755371, validation loss: 3.1552445888519287\n",
            "Tranining 49/50 done, training loss: 2.050197124481201, validation loss: 2.899216651916504\n",
            "Tranining 50/50 done, training loss: 2.4186551570892334, validation loss: 2.436487913131714\n"
          ]
        },
        {
          "output_type": "display_data",
          "data": {
            "text/plain": [
              "<Figure size 640x480 with 1 Axes>"
            ],
            "image/png": "[encoded data removed]"
          },
          "metadata": {}
        },
        {
          "output_type": "stream",
          "name": "stdout",
          "text": [
            "Average loss on test dataset:  1.9444481134414673\n",
            "[[16.849586  17.       ]\n",
            " [14.059564  16.       ]\n",
            " [14.603197  15.       ]\n",
            " [ 8.73349   10.       ]\n",
            " [ 7.7887645  8.       ]]\n",
            "Tester: Regression model learning OK\n"
          ]
        }
      ]
    },
    {
      "cell_type": "markdown",
      "metadata": {
        "id": "pTBqUmDzPiYI"
      },
      "source": [
        "## **G**: Az adat-iterátorok létrehozása a klasszifikációs feladathoz\n",
        "\n",
        "Hasonlóan a D) feladathoz, itt is három adat-iterátort kell létrehoznunk, azonban ezúttal egy kissé eltérő feladatot fogunk megtanulni megoldani, így a visszaadott tenzorok alakja / adattípusa is eltérő lesz. **Állítsd elő** a `dataloader_cl_train`, `dataloader_cl_val`, `dataloader_cl_test` nevű **iterátorokat**, melyek ugyancsak a C) részfeladatban elkészült tanító-, validációs- és teszthalmazokat tartalmazó tömböket járják be! A klasszifikációs feladatban input változókként az összes változót felhasználjuk az adatbázisban, kivéve a három harmadév végi jegyét a diákoknak (`G1`, `G2`, `G3` nevű, #30, #31 és #32 indexű oszlopok az eredeti adatbázis szövegfájlban). Címkeként három kategóriát definiálunk és az összes diákot besoroljuk ezekbe a kategóriákba:\n",
        "- **\"Gyengén teljesítő diákok\"** kategória, #0 kategóriaindex: azon diákok kerülnek ide, akik átlagos jegye kisebb, mint 9.5.\n",
        "- **\"Közepesen teljesítő diákok\"** kategória, #1 kategóriaindex: azon diákok kerülnek ide, akik legnagyobb jegye kisebb, mint 14, de nem tartoznak a \"Gyengén teljesítő diákok\" közé.\n",
        "- **\"Jól teljesítő diákok\"** kategória, #2 kategóriaindex: azon diákok kerülnek ide, akik nem tartoznak a másik két kategóriába.\n",
        "\n",
        "A fentiek alapján az iterátorok által visszaadott tenzorok alakja `(batch_size, 34)` és `(batch_size,)` lesz. Utóbbi (a címkéket tartalmazó tenzor) a diákok kategóriaindexét fogja tartalmazni (azaz 0, 1, vagy 2 értékeket, `torch.int64` adattípusban), előbbi pedig az adatbázis összes felhasznált változójának értékét a megfelelő mintaelemekre `torch.float32` adattípusban. `batch_size` ezúttal is a mintaelemek számát adja meg, ez kézzel beállítandó.\n",
        "\n",
        "A **tanító és validációs halmazt felsoroló iterátorok véletlen sorrendben járják be** a hozzájuk tartozó mintaelemeket! A teszt halmazt felsoroló iterátor ne változtasson a `dataset_split_test` tömb sorrendjén!"
      ]
    },
    {
      "cell_type": "code",
      "source": [
        "# implement your solution BELOW\n",
        "\n",
        "class StudentsClassificationDataset(Dataset):\n",
        "  def __init__(self, data):\n",
        "    avg_grades = np.mean(data[:, 30:33], axis=1)\n",
        "    highest_grades = np.max(data[:, 30:33], axis=1)\n",
        "    target = np.where(avg_grades < 9.5, 0, np.where(highest_grades < 14, 1, 2))\n",
        "    features = np.delete(data, [30,31,32], axis=1)\n",
        "    self.features = torch.tensor(features, dtype=torch.float32)\n",
        "    self.target = torch.tensor(target, dtype=torch.int64)\n",
        "\n",
        "  def __len__(self):\n",
        "    return len(self.features)\n",
        "\n",
        "  def __getitem__(self, idx):\n",
        "    return self.features[idx], self.target[idx]\n",
        "\n",
        "dataset_cl_train = StudentsClassificationDataset(dataset_split_train)\n",
        "dataset_cl_val = StudentsClassificationDataset(dataset_split_val)\n",
        "dataset_cl_test = StudentsClassificationDataset(dataset_split_test)\n",
        "\n",
        "dataloader_cl_train = DataLoader(dataset_cl_train, batch_size=32, shuffle=True)\n",
        "dataloader_cl_val = DataLoader(dataset_cl_val, batch_size=32, shuffle=True)\n",
        "dataloader_cl_test = DataLoader(dataset_cl_test, batch_size=32, shuffle=False)\n",
        "\n",
        "# implement your solution ABOVE\n",
        "\n",
        "tester.test('cl_iter', dataloader_cl_train, dataloader_cl_val, dataloader_cl_test)"
      ],
      "metadata": {
        "id": "I4QacNSQAhdz",
        "colab": {
          "base_uri": "https://localhost:8080/"
        },
        "outputId": "b52f0324-5a55-406f-8523-da72b9d9f922"
      },
      "execution_count": 33,
      "outputs": [
        {
          "output_type": "stream",
          "name": "stdout",
          "text": [
            "Tester: Dataset iterators for classification task OK\n"
          ]
        }
      ]
    },
    {
      "cell_type": "markdown",
      "metadata": {
        "id": "9xdtHfyrwexF"
      },
      "source": [
        "## **H**: A klasszifikációs neuronháló definiálása\n",
        "\n",
        "**Definiáld a klasszifikációs feladathoz alkalmazandó neuronhálót megvalósító osztályt**, mely a regressziós neuronhálót implementáló osztályhoz hasonlóan, az általános `torch.nn.Module` osztály leszármazottja! Példányosítsd az új osztályt és add értékül a `cl_model` nevű változónak a példányt!\n",
        "\n",
        "A klasszifikációs neuronháló **tartalmazzon 3 teljesen összekötött réteget! Az első kettő réteg tartalmazzon egyenként 30 és 20 neuront és alkalmazza a ReLU aktivációs függvényt a rétegek után!** Az utolsó réteget a háromkategóriás klasszifikációnak megfelelően kell kialakítani! Lásd a \"HF1 GYIK\" fórumot!"
      ]
    },
    {
      "cell_type": "code",
      "metadata": {
        "id": "30Iwot3xxVXI",
        "colab": {
          "base_uri": "https://localhost:8080/"
        },
        "outputId": "2e17d639-7ac8-4aca-af76-e39fb53fcc93"
      },
      "source": [
        "# implement your solution BELOW\n",
        "\n",
        "class ClassificationModel(nn.Module):\n",
        "  def __init__(self, input_dim, n_class):\n",
        "    super().__init__()\n",
        "    self.linear_relu_layers = nn.Sequential(\n",
        "        nn.Linear(input_dim, 30),\n",
        "        nn.ReLU(),\n",
        "        nn.Linear(30, 20),\n",
        "        nn.ReLU(),\n",
        "        nn.Linear(20, n_class)\n",
        "    )\n",
        "\n",
        "  def forward(self, x):\n",
        "    return self.linear_relu_layers(x)\n",
        "\n",
        "cl_model = ClassificationModel(34, 3)\n",
        "\n",
        "# implement your solution ABOVE\n",
        "\n",
        "tester.test('cl_model_architecture', cl_model)"
      ],
      "execution_count": 121,
      "outputs": [
        {
          "output_type": "stream",
          "name": "stdout",
          "text": [
            "Tester: Classification model architecture OK\n"
          ]
        }
      ]
    },
    {
      "cell_type": "markdown",
      "metadata": {
        "id": "7uowunGxa2Mq"
      },
      "source": [
        "## **I**: A háló betanítása (multi-class) klasszifikációs feladatra\n",
        "\n",
        "**Tanítsd be a** `cl_model` **neuronhálót** a tanítóhalmazon a `dataloader_cl_train` iterátor segítségével és alkalmazd a `dataloader_cl_val` iterátort a validációhoz!\n",
        "\n",
        "Alkalmazd a multi-class klasszifikációkor szokásosan használt **cross-entropy költséget**! **Mérd le minden epoch-ban a tanító- és a validációs halmazon mért költségeket, majd a tanítás végeztével rajzold ki ezeknek az értékeknek a tanítás során való alakulását egy közös grafikonon!** A grafikonon a jelmagyarázat meglétére és a görbék könnyű elkülöníthetőségére figyelj ezúttal is!\n",
        "\n",
        "A tanítást ezúttal az **early stopping** technika állítsa le! Amennyiben adott számú epoch-on keresztül (`patience`) nem javul a validációs költség, érjen véget a betanítás és **állítsuk vissza a `cl_model` súlyait abból az epoch-ból, amikor a legjobb volt a validációs költség!** Mindez automatikusan történjen!\n",
        "\n",
        "A betanítás végeztével **mérd le az átlagos költséget a teljes teszthalmazon** és add értékül a kapott számot a `test_ce` változónak!\n",
        "\n",
        "**Számold ki az _accuracy_ (pontosság) metrikát is a teszthalmaz elemein** és add értékül a kapott számot a `test_acc` változónak! Az _accuracy_ metrika a helyesen klasszifikált mintaelemek arányát adja meg. Például, ha 150 mintaelem kategóriájának becslésekor 75 esetben találtuk el a helyes kategóriát, az _accuracy_ értéke 0.5 lesz.\n",
        "\n",
        "Ezt követően, **válassz néhány mintaelemet a teszthalmazból** (például a `dataloader_cl_test` iterátor segítségével) és **adj becslést a címkéjükre** (a kategória indexére) az input változók értékei alapján, majd **írasd ki az egyes mintaelemekre a becsült és az igazi címkéjüket** (a kategóriák indexét)! Így példákon is láthatjuk, hogy mennyire ad jó becsléseket a neuronhálónk.\n",
        "\n",
        "Végezetül, **számold ki a háló teszthalmazon vett konfúziós mátrixát és rajzold ki azt**! A konfúziós mátrix egy k x k méretű mátrix k kategória esetén, ahol az `[i,j]` indexű elem megadja, hogy az adathalmazon a modellünk hány `i` kategóriába tartozó mintaelemet becsült a `j` kategóriába. A modellünk jó teljesítményét jelzi, ha minél több elem kerül a konfúziós mátrix főátlójába. A számoláshoz felhasználhatsz külső könyvtárat is, de NumPy-ban is megoldható. A kirajzoláshoz használható például a `matplotlib.pyplot` csomag `imshow` függvénye. Figyelj rá, hogy a grafikonon világosan látszon, hogy melyik tengely sorolja fel az igazi kategóriákat és melyik a becsült kategóriákat, látszanak a sorok és oszlopok végén a kategóriák indexei és a cellákban az odatartozó mintaelemek darabszáma!\n"
      ]
    },
    {
      "cell_type": "code",
      "source": [
        "# implement your solution BELOW\n",
        "\n",
        "# variables\n",
        "epochs = 50\n",
        "loss_fn = nn.CrossEntropyLoss()\n",
        "lr = 0.1\n",
        "optimizer = torch.optim.Adam(cl_model.parameters(), lr=lr)\n",
        "\n",
        "# train method\n",
        "def train(model, train_dataloader, val_dataloader, optimizer, loss_fn, epochs=10, delta=0.01, patience=10):\n",
        "  train_losses = []\n",
        "  val_losses = []\n",
        "\n",
        "  best_loss = np.inf\n",
        "  no_improvement_count = 0\n",
        "\n",
        "  for epoch in range(epochs):\n",
        "    model.train()\n",
        "    train_epoch_losses = []\n",
        "\n",
        "    for x, y in train_dataloader:\n",
        "      optimizer.zero_grad()\n",
        "      y_hat = model(x)\n",
        "      loss = loss_fn(y_hat, y)\n",
        "      train_epoch_losses.append(loss)\n",
        "      loss.backward()\n",
        "      optimizer.step()\n",
        "\n",
        "    train_epoch_losses = torch.tensor(train_epoch_losses)\n",
        "    avg_epoch_loss = train_epoch_losses.mean()\n",
        "    train_losses.append(avg_epoch_loss)\n",
        "\n",
        "    model.eval()\n",
        "    val_epoch_losses = []\n",
        "\n",
        "    for x, y in val_dataloader:\n",
        "      with torch.no_grad():\n",
        "        y_hat = model(x)\n",
        "\n",
        "      loss = loss_fn(y_hat, y)\n",
        "      val_epoch_losses.append(loss)\n",
        "\n",
        "    val_epoch_losses = torch.tensor(val_epoch_losses)\n",
        "    avg_epoch_loss = val_epoch_losses.mean()\n",
        "    val_losses.append(avg_epoch_loss)\n",
        "\n",
        "    if avg_epoch_loss + delta < best_loss:\n",
        "      best_loss = avg_epoch_loss\n",
        "      no_improvement_count = 0\n",
        "      torch.save(model.state_dict(), 'best_model.pth')\n",
        "    else:\n",
        "      no_improvement_count += 1\n",
        "\n",
        "    print(f'Tranining {epoch+1}/{epochs} done, training loss: {train_losses[-1]}, validation loss: {val_losses[-1]}')\n",
        "\n",
        "    if no_improvement_count >= patience:\n",
        "      print('Stopped by early stopping.')\n",
        "      print('Best validation loss: ', best_loss.item())\n",
        "      model.load_state_dict(torch.load('best_model.pth'))\n",
        "      return train_losses, val_losses\n",
        "\n",
        "  return train_losses, val_losses\n",
        "\n",
        "# training and visualization\n",
        "train_losses, val_losses = train(cl_model, dataloader_cl_train, dataloader_cl_val, optimizer, loss_fn, epochs=epochs, delta=0.005, patience=10)\n",
        "\n",
        "plt.plot(train_losses, label='Training')\n",
        "plt.plot(val_losses, label='Validation')\n",
        "plt.xlabel('Epochs')\n",
        "plt.ylabel('Cross Entropy Loss')\n",
        "plt.ylim(0, 2)\n",
        "plt.legend()\n",
        "plt.show()\n",
        "\n",
        "# accuracy, loss and label prediction on test set\n",
        "cl_model.eval()\n",
        "accuracy = []\n",
        "test_losses = []\n",
        "pred_label_pairs = []\n",
        "for x, y in dataloader_cl_test:\n",
        "  with torch.no_grad():\n",
        "    y_hat = cl_model(x)\n",
        "  prediction = torch.argmax(y_hat, dim=1)\n",
        "  loss = loss_fn(y_hat, y)\n",
        "  test_losses.append(loss)\n",
        "  accuracy.append((prediction == y).to(torch.float32))\n",
        "  pred_label_pairs.append(torch.stack((prediction, y), dim=-1))\n",
        "\n",
        "test_ce = torch.tensor(test_losses).mean()\n",
        "test_acc = torch.cat(accuracy).mean()\n",
        "print('Average accuracy on test dataset: ', test_acc.item())\n",
        "print('Average loss on test dataset: ', test_ce.item())\n",
        "print(pred_label_pairs[0].numpy()[:5])\n",
        "\n",
        "# confusion matrix\n",
        "pred_label_pairs = pred_label_pairs[0].numpy()\n",
        "confusion_matrix = np.bincount(pred_label_pairs[:, 1] * 3 + pred_label_pairs[:, 0], minlength = 9).reshape(3,3)\n",
        "plt.figure(figsize=(5,4))\n",
        "plt.title('Confusion Matrix')\n",
        "plt.xlabel('Label')\n",
        "plt.xticks([0,1,2])\n",
        "plt.ylabel('Prediction')\n",
        "plt.yticks([0,1,2])\n",
        "for i in range(confusion_matrix.shape[0]):\n",
        "    for j in range(confusion_matrix.shape[1]):\n",
        "      color = \"black\" if 2.5 <= confusion_matrix[i, j] <= 7.5 else \"white\"\n",
        "      plt.text(j, i, format(confusion_matrix[i, j], '.2f'),\n",
        "                 horizontalalignment=\"center\",\n",
        "                 color=color)\n",
        "plt.imshow(confusion_matrix, cmap='bwr')\n",
        "plt.colorbar()\n",
        "plt.show()\n",
        "\n",
        "# implement your solution ABOVE\n",
        "\n",
        "tester.test('cl_model_learning', test_ce, test_acc)"
      ],
      "metadata": {
        "id": "5v3_oyswb78-",
        "colab": {
          "base_uri": "https://localhost:8080/",
          "height": 1000
        },
        "outputId": "ec81e15b-c91c-4455-f7ce-e263dc95f4b5"
      },
      "execution_count": 122,
      "outputs": [
        {
          "output_type": "stream",
          "name": "stdout",
          "text": [
            "Tranining 1/50 done, training loss: 1.8539714813232422, validation loss: 1.1147223711013794\n",
            "Tranining 2/50 done, training loss: 1.1360197067260742, validation loss: 1.1666213274002075\n",
            "Tranining 3/50 done, training loss: 1.1159340143203735, validation loss: 1.0851258039474487\n",
            "Tranining 4/50 done, training loss: 1.1017755270004272, validation loss: 1.0985426902770996\n",
            "Tranining 5/50 done, training loss: 1.096714735031128, validation loss: 1.1066184043884277\n",
            "Tranining 6/50 done, training loss: 1.099339485168457, validation loss: 1.110120415687561\n",
            "Tranining 7/50 done, training loss: 1.0960296392440796, validation loss: 1.0899028778076172\n",
            "Tranining 8/50 done, training loss: 1.0953716039657593, validation loss: 1.0869572162628174\n",
            "Tranining 9/50 done, training loss: 1.0950113534927368, validation loss: 1.1027203798294067\n",
            "Tranining 10/50 done, training loss: 1.0896791219711304, validation loss: 1.0610476732254028\n",
            "Tranining 11/50 done, training loss: 1.0777543783187866, validation loss: 1.100682020187378\n",
            "Tranining 12/50 done, training loss: 1.0678911209106445, validation loss: 1.086285948753357\n",
            "Tranining 13/50 done, training loss: 1.04641854763031, validation loss: 1.0393121242523193\n",
            "Tranining 14/50 done, training loss: 1.1459391117095947, validation loss: 1.0629388093948364\n",
            "Tranining 15/50 done, training loss: 1.089359998703003, validation loss: 1.1434575319290161\n",
            "Tranining 16/50 done, training loss: 1.0680691003799438, validation loss: 1.0930824279785156\n",
            "Tranining 17/50 done, training loss: 1.0314894914627075, validation loss: 1.063869833946228\n",
            "Tranining 18/50 done, training loss: 1.0076655149459839, validation loss: 1.1573153734207153\n",
            "Tranining 19/50 done, training loss: 1.0200250148773193, validation loss: 1.1159733533859253\n",
            "Tranining 20/50 done, training loss: 1.0014781951904297, validation loss: 1.0620840787887573\n",
            "Tranining 21/50 done, training loss: 1.0306447744369507, validation loss: 1.042066216468811\n",
            "Tranining 22/50 done, training loss: 0.9985710978507996, validation loss: 1.0706138610839844\n",
            "Tranining 23/50 done, training loss: 0.982361912727356, validation loss: 0.9931545257568359\n",
            "Tranining 24/50 done, training loss: 1.0532020330429077, validation loss: 1.0476313829421997\n",
            "Tranining 25/50 done, training loss: 1.1766694784164429, validation loss: 1.0915679931640625\n",
            "Tranining 26/50 done, training loss: 1.1251540184020996, validation loss: 1.1175532341003418\n",
            "Tranining 27/50 done, training loss: 1.104475975036621, validation loss: 1.1344884634017944\n",
            "Tranining 28/50 done, training loss: 1.1044182777404785, validation loss: 1.0871257781982422\n",
            "Tranining 29/50 done, training loss: 1.1028379201889038, validation loss: 1.0781255960464478\n",
            "Tranining 30/50 done, training loss: 1.1025283336639404, validation loss: 1.0961834192276\n",
            "Tranining 31/50 done, training loss: 1.1005539894104004, validation loss: 1.12226140499115\n",
            "Tranining 32/50 done, training loss: 1.1062910556793213, validation loss: 1.092819094657898\n",
            "Tranining 33/50 done, training loss: 1.0972816944122314, validation loss: 1.082298755645752\n",
            "Stopped by early stopping.\n",
            "Best validation loss:  0.9931545257568359\n"
          ]
        },
        {
          "output_type": "display_data",
          "data": {
            "text/plain": [
              "<Figure size 640x480 with 1 Axes>"
            ],
            "image/png": "[encoded data removed]"
          },
          "metadata": {}
        },
        {
          "output_type": "stream",
          "name": "stdout",
          "text": [
            "Average accuracy on test dataset:  0.4556961953639984\n",
            "Average loss on test dataset:  1.0290637016296387\n",
            "[[0 2]\n",
            " [1 2]\n",
            " [0 2]\n",
            " [1 0]\n",
            " [0 0]]\n"
          ]
        },
        {
          "output_type": "display_data",
          "data": {
            "text/plain": [
              "<Figure size 500x400 with 2 Axes>"
            ],
            "image/png": "[encoded data removed]"
          },
          "metadata": {}
        },
        {
          "output_type": "stream",
          "name": "stdout",
          "text": [
            "Tester: Classification model learning OK\n"
          ]
        }
      ]
    }
  ]
}